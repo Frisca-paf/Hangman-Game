{
  "nbformat": 4,
  "nbformat_minor": 0,
  "metadata": {
    "colab": {
      "provenance": [],
      "authorship_tag": "ABX9TyOdFcF9mjIDuVXNTRtXzNmq",
      "include_colab_link": true
    },
    "kernelspec": {
      "name": "python3",
      "display_name": "Python 3"
    },
    "language_info": {
      "name": "python"
    }
  },
  "cells": [
    {
      "cell_type": "markdown",
      "metadata": {
        "id": "view-in-github",
        "colab_type": "text"
      },
      "source": [
        "<a href=\"https://colab.research.google.com/github/Frisca-paf/Hangman-Game/blob/main/Hangman_Game.ipynb\" target=\"_parent\"><img src=\"https://colab.research.google.com/assets/colab-badge.svg\" alt=\"Open In Colab\"/></a>"
      ]
    },
    {
      "cell_type": "markdown",
      "source": [
        "# HangMan\n",
        "\n"
      ],
      "metadata": {
        "id": "H3wFHStdJCj_"
      }
    },
    {
      "cell_type": "code",
      "source": [
        "import pandas as pd\n",
        "import random\n",
        "import string\n",
        "\n",
        "data = pd.read_csv('zoo2.csv')\n",
        "list_column = data.columns\n",
        "list_of_fruit = list(data.pop(\"animal_name\"))\n",
        "print(list_of_fruit)"
      ],
      "metadata": {
        "colab": {
          "base_uri": "https://localhost:8080/"
        },
        "id": "L2jBPAuFH2S1",
        "outputId": "c764ce27-f7ba-4688-ff55-39af7dc9a945"
      },
      "execution_count": null,
      "outputs": [
        {
          "output_type": "stream",
          "name": "stdout",
          "text": [
            "['turtle', 'chameleon', 'iguana', 'lizard', 'gecko', 'python', 'boa', 'adder', 'crocodile', 'alligator', 'gharial', 'skink', 'anchovy', 'flounder', 'halibut', 'mackerel', 'barracuda', 'marlin', 'trout', 'salamander', 'siren', 'tree frog', 'dart frog', 'firebelly', 'wart toad', 'mosquito', 'hornet', 'cricket', 'beetle', 'butterfly', 'palmetto', 'cockroach', 'mantis', 'dragonfly', 'aphid', 'cicada', 'antlion', 'scallop', 'spider', 'snail', 'silkworm', 'jellyfish', 'squid']\n"
          ]
        }
      ]
    },
    {
      "cell_type": "markdown",
      "source": [
        "Function"
      ],
      "metadata": {
        "id": "RD2IeUZXlicw"
      }
    },
    {
      "cell_type": "code",
      "source": [
        "def display_hangman(count):\n",
        "  live = 5-count\n",
        "  if count == 1:\n",
        "      print(\"   _____ \\n\"\n",
        "                  \"  |      \\n\"\n",
        "                  \"  |      \\n\"\n",
        "                  \"  |      \\n\"\n",
        "                  \"  |      \\n\"\n",
        "                  \"  |      \\n\"\n",
        "                  \"  |      \\n\"\n",
        "                  \"__|__\\n\")\n",
        "        \n",
        "  elif count == 2:\n",
        "        print(\"   _____ \\n\"\n",
        "                  \"  |     | \\n\"\n",
        "                  \"  |     |\\n\"\n",
        "                  \"  |      \\n\"\n",
        "                  \"  |      \\n\"\n",
        "                  \"  |      \\n\"\n",
        "                  \"  |      \\n\"\n",
        "                  \"__|__\\n\")\n",
        "\n",
        "  elif count == 3:\n",
        "      print(\"   _____ \\n\"\n",
        "                 \"  |     | \\n\"\n",
        "                 \"  |     |\\n\"\n",
        "                 \"  |     | \\n\"\n",
        "                 \"  |      \\n\"\n",
        "                 \"  |      \\n\"\n",
        "                 \"  |      \\n\"\n",
        "                 \"__|__\\n\")\n",
        "\n",
        "  elif count == 4:\n",
        "      print(\"   _____ \\n\"\n",
        "                  \"  |     | \\n\"\n",
        "                  \"  |     |\\n\"\n",
        "                  \"  |     | \\n\"\n",
        "                  \"  |     O \\n\"\n",
        "                  \"  |      \\n\"\n",
        "                  \"  |      \\n\"\n",
        "                  \"__|__\\n\")\n",
        "\n",
        "  elif count == 5:\n",
        "      print(\"   _____ \\n\"\n",
        "                  \"  |     | \\n\"\n",
        "                  \"  |     |\\n\"\n",
        "                  \"  |     | \\n\"\n",
        "                  \"  |     O \\n\"\n",
        "                  \"  |    /|\\ \\n\"\n",
        "                  \"  |    / \\ \\n\"\n",
        "                  \"__|__\\n\")\n",
        "      print(\"Wrong guess. You are hanged!!!\\n\")\n",
        "  return (f\"Your live now is {live}\")\n",
        "\n",
        "def display_blank_word(word,blank):\n",
        "  for n in range(len(word)) :\n",
        "    blank.append(\"_\")\n",
        "  display = ' '.join(blank)\n",
        "  print(display)\n",
        "\n",
        "def display_blank(blank,index,letter):\n",
        "  blank[index] = letter\n",
        "  for n in blank :\n",
        "    print(n, end = \" \")\n",
        "  print(\"\\n\")\n",
        "\n",
        "def convert(string):\n",
        "  lst = []\n",
        "  for letter in string:\n",
        "    lst.append(letter)\n",
        "  return lst"
      ],
      "metadata": {
        "id": "d0lAu4yTO2n0"
      },
      "execution_count": null,
      "outputs": []
    },
    {
      "cell_type": "markdown",
      "source": [
        "Main Program"
      ],
      "metadata": {
        "id": "J5m13I6PlmxS"
      }
    },
    {
      "cell_type": "code",
      "source": [
        "while True : \n",
        "  user = str(input(\"Do you want to start? Y or N \").lower())\n",
        "  count = 0\n",
        "  blank = []\n",
        "\n",
        "  if user == \"y\" :\n",
        "    word = random.choice(list_of_fruit).upper()\n",
        "    letters = convert(word)\n",
        "    display_blank_word(word,blank)\n",
        "\n",
        "    while blank.__contains__('_') and count < 5 :\n",
        "      input_user = str(input(\"input your suggest letters \").upper())\n",
        "      if letters.__contains__(input_user) :\n",
        "        for letter in letters :\n",
        "          index = letters.index(input_user)\n",
        "        display_blank(blank,index,input_user)\n",
        "      else :\n",
        "        print(\"You are wrong!\")\n",
        "        count += 1\n",
        "        print(display_hangman(count))\n",
        "    \n",
        "  if user == \"n\" :\n",
        "    print(\"See you again!\")\n",
        "    break"
      ],
      "metadata": {
        "colab": {
          "base_uri": "https://localhost:8080/"
        },
        "id": "3VgFeEFUjfKP",
        "outputId": "dfc74bdb-78b2-40b1-e2c5-25daef7a1b78"
      },
      "execution_count": null,
      "outputs": [
        {
          "output_type": "stream",
          "name": "stdout",
          "text": [
            "Do you want to start? Y or N y\n",
            "_ _ _ _ _ _ _ _ _\n",
            "input your suggest letters a\n",
            "_ _ A _ _ _ _ _ _ \n",
            "\n",
            "input your suggest letters e\n",
            "You are wrong!\n",
            "   _____ \n",
            "  |      \n",
            "  |      \n",
            "  |      \n",
            "  |      \n",
            "  |      \n",
            "  |      \n",
            "__|__\n",
            "\n",
            "Your live now is 4\n",
            "input your suggest letters r\n",
            "_ R A _ _ _ _ _ _ \n",
            "\n",
            "input your suggest letters p\n",
            "You are wrong!\n",
            "   _____ \n",
            "  |     | \n",
            "  |     |\n",
            "  |      \n",
            "  |      \n",
            "  |      \n",
            "  |      \n",
            "__|__\n",
            "\n",
            "Your live now is 3\n",
            "input your suggest letters w\n",
            "You are wrong!\n",
            "   _____ \n",
            "  |     | \n",
            "  |     |\n",
            "  |     | \n",
            "  |      \n",
            "  |      \n",
            "  |      \n",
            "__|__\n",
            "\n",
            "Your live now is 2\n",
            "input your suggest letters q\n",
            "You are wrong!\n",
            "   _____ \n",
            "  |     | \n",
            "  |     |\n",
            "  |     | \n",
            "  |     O \n",
            "  |      \n",
            "  |      \n",
            "__|__\n",
            "\n",
            "Your live now is 1\n",
            "input your suggest letters c\n",
            "You are wrong!\n",
            "   _____ \n",
            "  |     | \n",
            "  |     |\n",
            "  |     | \n",
            "  |     O \n",
            "  |    /|\\ \n",
            "  |    / \\ \n",
            "__|__\n",
            "\n",
            "Wrong guess. You are hanged!!!\n",
            "\n",
            "Your live now is 0\n",
            "Do you want to start? Y or N n\n",
            "See you again!\n"
          ]
        }
      ]
    }
  ]
}